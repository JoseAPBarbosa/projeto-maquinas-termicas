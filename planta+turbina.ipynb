{
 "cells": [
  {
   "cell_type": "markdown",
   "id": "07696cc7",
   "metadata": {},
   "source": [
    "### Imports"
   ]
  },
  {
   "cell_type": "code",
   "execution_count": 21,
   "id": "a17f07e0",
   "metadata": {},
   "outputs": [],
   "source": [
    "import pandas as pd\n",
    "\n",
    "url1 = \"https://raw.githubusercontent.com/JoseAPBarbosa/projeto-maquinas-termicas/main/saturated_by_temperature_V1.5.csv\"\n",
    "url2 = \"https://raw.githubusercontent.com/JoseAPBarbosa/projeto-maquinas-termicas/main/saturated_by_pressure_V1.4.csv\"\n",
    "url3 = \"https://raw.githubusercontent.com/JoseAPBarbosa/projeto-maquinas-termicas/main/compressed_liquid_and_superheated_steam_V1.3.csv\"\n",
    "\n",
    "sat_temperature_df = pd.read_csv(url1)\n",
    "sat_temperature_df.rename(columns={\n",
    "    'T (°C)': 'T',\n",
    "    'P (MPa)': 'P_sat',\n",
    "    'Specific Volume Liquid (m^3/kg)': 'v_f',\n",
    "    'Specific Volume Vapor (m^3/kg)': 'v_g',\n",
    "    'Internal Energy Liquid (kJ/kg)': 'u_f',\n",
    "    'Internal Energy Vapor (kJ/kg)': 'u_g',\n",
    "    'Internal Energy of Vaporization (kJ/kg)': 'u_fg',\n",
    "    'Enthalpy Liquid (kJ/kg)': 'h_f',\n",
    "    'Enthalpy Vapor (kJ/kg)': 'h_g',\n",
    "    'Enthalpy of Vaporization (kJ/kg)': 'h_fg',\n",
    "    'Entropy Liquid [kJ/(kg K)]': 's_f',\n",
    "    'Entropy Vapor [kJ/(kg K)]': 's_g',\n",
    "    'Entropy of Vaporization [kJ/(kg K)]': 's_fg'\n",
    "}, inplace=True)\n",
    "\n",
    "sat_pressure_df = pd.read_csv(url2)\n",
    "sat_pressure_df.rename(columns={\n",
    "    'P (MPa)': 'P',\n",
    "    'T (°C)': 'T_sat',\n",
    "    'Specific Volume Liquid (m^3/kg)': 'v_f',\n",
    "    'Specific Volume Vapor (m^3/kg)': 'v_g',\n",
    "    'Internal Energy Liquid (kJ/kg)': 'u_f',\n",
    "    'Internal Energy Vapor (kJ/kg)': 'u_g',\n",
    "    'Internal Energy of Vaporization (kJ/kg)': 'u_fg',\n",
    "    'Enthalpy Liquid (kJ/kg)': 'h_f',\n",
    "    'Enthalpy Vapor (kJ/kg)': 'h_g',\n",
    "    'Enthalpy of Vaporization (kJ/kg)': 'h_fg',\n",
    "    'Entropy Liquid [kJ/(kg K)]': 's_f',\n",
    "    'Entropy Vapor [kJ/(kg K)]': 's_g',\n",
    "    'Entropy of Vaporization [kJ/(kg K)]': 's_fg'\n",
    "}, inplace=True)\n",
    "\n",
    "cliquid_ssteam_df = pd.read_csv(url3)\n",
    "cliquid_ssteam_df.rename(columns={\n",
    "    'Pressure (MPa)': 'P',\n",
    "    ' Temperature (°C)': 'T',\n",
    "    ' Specific Volume (m^3/kg)': 'v',\n",
    "    ' Density (kg/m^3)': 'rho',\n",
    "    ' Specific Internal Energy (kJ/kg)': 'u',\n",
    "    ' Specific Enthalpy (kJ/kg)': 'h',\n",
    "    ' Specific Entropy [kJ/(kg K)]': 's'\n",
    "}, inplace=True)\n",
    "cliquid_ssteam_df = cliquid_ssteam_df.apply(pd.to_numeric, errors='coerce')"
   ]
  },
  {
   "cell_type": "markdown",
   "id": "90efc1a2",
   "metadata": {},
   "source": [
    "### Função para obter o estado termodinâmico da água para um dada pressão e propriedade"
   ]
  },
  {
   "cell_type": "code",
   "execution_count": 22,
   "id": "f271a528",
   "metadata": {},
   "outputs": [],
   "source": [
    "def interpolated_state_at_P(df, target_P, col, target_val):\n",
    "    \"\"\"\n",
    "    Interpolates all values in df at fixed target_P so that column `col`\n",
    "    equals target_val exactly (linear interpolation).\n",
    "    \n",
    "    Parameters:\n",
    "        df : pandas.DataFrame\n",
    "        target_P : float\n",
    "            Desired pressure value\n",
    "        col : str\n",
    "            Column name to interpolate against (e.g. 'h', 's', etc.)\n",
    "        target_val : float\n",
    "            Desired value in column `col`\n",
    "    \n",
    "    Returns:\n",
    "        interpolated_row : pandas.Series\n",
    "            Row with interpolated values\n",
    "    \"\"\"\n",
    "    # Filter only rows at given pressure\n",
    "    df_at_P = df[df['P'] == target_P].sort_values(by=col).reset_index(drop=True)\n",
    "    \n",
    "    # If the target_val is outside range, return closest row\n",
    "    if target_val <= df_at_P[col].min():\n",
    "        return df_at_P.iloc[0]\n",
    "    if target_val >= df_at_P[col].max():\n",
    "        return df_at_P.iloc[-1]\n",
    "\n",
    "    # Find bounding rows\n",
    "    lower_idx = (df_at_P[col] <= target_val).idxmax()  # first >=\n",
    "    upper_idx = (df_at_P[col] >= target_val).idxmax()  # first >= again\n",
    "\n",
    "    # Handle possible edge-case\n",
    "    if lower_idx == upper_idx:\n",
    "        return df_at_P.loc[lower_idx]\n",
    "\n",
    "    row1 = df_at_P.loc[lower_idx]\n",
    "    row2 = df_at_P.loc[upper_idx]\n",
    "\n",
    "    # Linear interpolation factor\n",
    "    t = (target_val - row1[col]) / (row2[col] - row1[col])\n",
    "\n",
    "    # Interpolate every column numerically\n",
    "    interpolated = {}\n",
    "    for c in df.columns:\n",
    "        if c == 'P':\n",
    "            interpolated[c] = target_P\n",
    "        elif pd.api.types.is_numeric_dtype(df[c]):\n",
    "            interpolated[c] = row1[c] + t * (row2[c] - row1[c])\n",
    "        else:\n",
    "            # Non-numeric (like phase labels) – keep closest\n",
    "            interpolated[c] = row1[c] if t < 0.5 else row2[c]\n",
    "\n",
    "    return pd.Series(interpolated)\n"
   ]
  },
  {
   "cell_type": "markdown",
   "id": "09463708",
   "metadata": {},
   "source": [
    "---"
   ]
  },
  {
   "cell_type": "markdown",
   "id": "94caf93f",
   "metadata": {},
   "source": [
    "### Turbina à gas"
   ]
  },
  {
   "cell_type": "code",
   "execution_count": 23,
   "id": "55c28369",
   "metadata": {},
   "outputs": [],
   "source": [
    "Wgas = -5.05e3\n",
    "m20 = 19.5\n",
    "T20 = 545.0\n",
    "hr = 11914\n",
    "\n",
    "Mf =  0.8924*16 + 0.0786*30 + 0.0024*44 + 0.0005*58 + 0.01134*28 + 0.0125*44 + 0.0002*32\n",
    "rho = 0.78\n",
    "LHV = 35564\n",
    "\n",
    "Mair = 0.21*32 + 0.79*28"
   ]
  },
  {
   "cell_type": "code",
   "execution_count": 24,
   "id": "f8f6a6de",
   "metadata": {},
   "outputs": [],
   "source": [
    "R = 8.314\n",
    "cp_co2 = lambda T: (R/44) * ((+2.401) + (+8.735e-3)*T + (-6.607e-6)*T**2 + (+2.002e-9)*T**3 +            0*T**4)\n",
    "cp_h2o = lambda T: (R/18) * ((+4.070) + (-1.108e-3)*T + (+4.152e-6)*T**2 + (-2.964e-9)*T**3 + (+0.807e-12)*T**4)\n",
    "cp_o2  = lambda T: (R/32) * ((+3.626) + (-1.878e-3)*T + (+7.055e-6)*T**2 + (-6.764e-9)*T**3 + (+2.156e-12)*T**4)\n",
    "cp_n2  = lambda T: (R/28) * ((+3.675) + (-1.208e-3)*T + (+2.324e-6)*T**2 + (-0.632e-9)*T**3 + (-0.226e-12)*T**4)\n",
    "\n",
    "cp_CO2 = cp_co2(800)\n",
    "cp_H2O = cp_h2o(800)\n",
    "cp_O2  = cp_o2(800)\n",
    "cp_N2  = cp_n2(800)"
   ]
  },
  {
   "cell_type": "code",
   "execution_count": 25,
   "id": "8e26f3f9",
   "metadata": {},
   "outputs": [],
   "source": [
    "q_in = -Wgas * hr/3600\n",
    "mf = q_in/LHV * rho\n",
    "mair = m20 - mf\n",
    "\n",
    "nair = mair/Mair\n",
    "nf = mf/Mf\n",
    "\n",
    "a = 0.8924 + 2*0.0786 + 3*0.0024 + 4*0.0005 + 0.0125\n",
    "b = (4*0.8924 + 6*0.0786 + 8*0.0024 + 10*0.0005)/2\n",
    "c = (2*0.0125 + 2*0.0002 + 2*(nair/nf)*0.21 - 2*a - b)/2\n",
    "d = (2*0.0134 + 2*(nair/nf)*0.79)/2\n",
    "\n",
    "cp_out = (a*cp_CO2 + b*cp_H2O + c*cp_O2 + d*cp_N2)/(a + b + c + d)"
   ]
  },
  {
   "cell_type": "code",
   "execution_count": 26,
   "id": "200912ca",
   "metadata": {},
   "outputs": [],
   "source": [
    "mco2 = nf*a*44"
   ]
  },
  {
   "cell_type": "markdown",
   "id": "a3f36163",
   "metadata": {},
   "source": [
    "---"
   ]
  },
  {
   "cell_type": "markdown",
   "id": "4f78c37d",
   "metadata": {},
   "source": [
    "### Entrada:"
   ]
  },
  {
   "cell_type": "code",
   "execution_count": 27,
   "id": "78c594b7",
   "metadata": {},
   "outputs": [],
   "source": [
    "P1 = 5.0\n",
    "T1 = 240.0\n",
    "\n",
    "m1 = 80.0"
   ]
  },
  {
   "cell_type": "markdown",
   "id": "d57749fc",
   "metadata": {},
   "source": [
    "---"
   ]
  },
  {
   "cell_type": "markdown",
   "id": "3b216593",
   "metadata": {},
   "source": [
    "### Quedas de pressão"
   ]
  },
  {
   "cell_type": "code",
   "execution_count": 28,
   "id": "04b0836a",
   "metadata": {},
   "outputs": [],
   "source": [
    "P2 = 1.0\n",
    "P6 = 0.2\n",
    "P7 = 0.2\n",
    "P12 = 0.05"
   ]
  },
  {
   "cell_type": "markdown",
   "id": "76615bb9",
   "metadata": {},
   "source": [
    "### Temperaturas pós-aquecimento"
   ]
  },
  {
   "cell_type": "code",
   "execution_count": 29,
   "id": "739310a1",
   "metadata": {},
   "outputs": [],
   "source": [
    "T5 = 300\n",
    "T10 = 250"
   ]
  },
  {
   "cell_type": "markdown",
   "id": "7034434c",
   "metadata": {},
   "source": [
    "---"
   ]
  },
  {
   "cell_type": "markdown",
   "id": "394d26e2",
   "metadata": {},
   "source": [
    "### Primeiro Flashing"
   ]
  },
  {
   "cell_type": "code",
   "execution_count": 30,
   "id": "c29996f5",
   "metadata": {},
   "outputs": [],
   "source": [
    "state_1 = cliquid_ssteam_df[(cliquid_ssteam_df[\"P\"] == P1) & (cliquid_ssteam_df[\"T\"] == T1)]\n",
    "h1 = state_1[\"h\"].values[0]\n",
    "s1 = state_1[\"s\"].values[0]\n",
    "x1 = 0.0\n",
    "\n",
    "state_2 = sat_pressure_df[sat_pressure_df[\"P\"] == P2]\n",
    "T2 = state_2[\"T_sat\"].values[0]\n",
    "hf2 = state_2[\"h_f\"].values[0]\n",
    "hg2 = state_2[\"h_g\"].values[0]\n",
    "sf2 = state_2[\"s_f\"].values[0]\n",
    "sg2 = state_2[\"s_g\"].values[0]\n",
    "\n",
    "x2 = (h1 - hf2)/(hg2 - hf2)\n",
    "h2 = x2*hg2 + (1-x2)*hf2\n",
    "s2 = x2*sg2 + (1-x2)*sf2\n",
    "m2 = m1\n",
    "\n",
    "P3 = P2\n",
    "T3 = T2\n",
    "h3 = hf2\n",
    "s3 = sf2\n",
    "x3 = 0.0\n",
    "m3 = (1-x2)*m2\n",
    "\n",
    "P4 = P2\n",
    "T4 = T2\n",
    "h4 = hg2\n",
    "s4 = sg2\n",
    "x4 = 1.0\n",
    "m4 = x2*m2"
   ]
  },
  {
   "cell_type": "markdown",
   "id": "8ed3e2a5",
   "metadata": {},
   "source": [
    "---"
   ]
  },
  {
   "cell_type": "markdown",
   "id": "d1b70a3c",
   "metadata": {},
   "source": [
    "### Segundo Flashing"
   ]
  },
  {
   "cell_type": "code",
   "execution_count": 31,
   "id": "8cd08a15",
   "metadata": {},
   "outputs": [],
   "source": [
    "state_7 = sat_pressure_df[sat_pressure_df[\"P\"] == P7]\n",
    "T7 = state_7[\"T_sat\"].values[0]\n",
    "hf7 = state_7[\"h_f\"].values[0]\n",
    "hg7 = state_7[\"h_g\"].values[0]\n",
    "sf7 = state_7[\"s_f\"].values[0]\n",
    "sg7 = state_7[\"s_g\"].values[0]\n",
    "\n",
    "x7 = (h3 - hf7)/(hg7 - hf7)\n",
    "h7 = x7*hg7 + (1-x7)*hf7\n",
    "s7 = x7*sg7 + (1-x7)*sf7\n",
    "m7 = m3\n",
    "\n",
    "P8 = P7\n",
    "T8 = T7\n",
    "h8 = hf7\n",
    "s8 = sf7\n",
    "x8 = 0.0\n",
    "m8 = (1-x7)*m7\n",
    "\n",
    "P9 = P7\n",
    "T9 = T7\n",
    "h9 = hg7\n",
    "s9 = sg7\n",
    "x9 = 1.0\n",
    "m9 = x7*m7"
   ]
  },
  {
   "cell_type": "markdown",
   "id": "d00090ed",
   "metadata": {},
   "source": [
    "---"
   ]
  },
  {
   "cell_type": "markdown",
   "id": "56413063",
   "metadata": {},
   "source": [
    "### Trocador de calor 1"
   ]
  },
  {
   "cell_type": "code",
   "execution_count": 32,
   "id": "8451c593",
   "metadata": {},
   "outputs": [],
   "source": [
    "P5 = P4\n",
    "state_5 = cliquid_ssteam_df[(cliquid_ssteam_df[\"P\"] == P5) & (cliquid_ssteam_df[\"T\"] == T5)]\n",
    "h5 = state_5[\"h\"].values[0]\n",
    "s5 = state_5[\"s\"].values[0]\n",
    "x5 = x4\n",
    "m5 = m4\n",
    "\n",
    "T21 = T20 - (h5 - h4)/(m20*cp_out)*m5"
   ]
  },
  {
   "cell_type": "markdown",
   "id": "cf5002c2",
   "metadata": {},
   "source": [
    "### Trocador de calor 2"
   ]
  },
  {
   "cell_type": "code",
   "execution_count": 33,
   "id": "8bf4b1d9",
   "metadata": {},
   "outputs": [],
   "source": [
    "P10 = P9\n",
    "state_10 = cliquid_ssteam_df[(cliquid_ssteam_df[\"P\"] == P10) & (cliquid_ssteam_df[\"T\"] == T10)]\n",
    "h10 = state_10[\"h\"].values[0]\n",
    "s10 = state_10[\"s\"].values[0]\n",
    "x10 = x9\n",
    "m10 = m9\n",
    "\n",
    "m21 = m20\n",
    "T22 = T21 - (h10 - h9)/(m21*cp_out)*m10"
   ]
  },
  {
   "cell_type": "markdown",
   "id": "fde6f5d9",
   "metadata": {},
   "source": [
    "### Emissões de carbono [Ton/h]"
   ]
  },
  {
   "cell_type": "markdown",
   "id": "a2080943",
   "metadata": {},
   "source": [
    "---"
   ]
  },
  {
   "cell_type": "markdown",
   "id": "fc39afb2",
   "metadata": {},
   "source": [
    "### Turbina de alta pressão\n"
   ]
  },
  {
   "cell_type": "code",
   "execution_count": 34,
   "id": "53850004",
   "metadata": {},
   "outputs": [],
   "source": [
    "eta_s = 0.85\n",
    "s6 = s5\n",
    "\n",
    "state_6_s = interpolated_state_at_P(cliquid_ssteam_df, P6, \"s\", s6)\n",
    "h6s = state_6_s[\"h\"]\n",
    "h6 = h5 - eta_s*(h5 - h6s)\n",
    "\n",
    "state_6 = interpolated_state_at_P(cliquid_ssteam_df, P6, \"h\", h6)\n",
    "T6 = state_6[\"T\"]\n",
    "s6 = state_6[\"s\"]\n",
    "x6 = x5\n",
    "m6 = m5\n",
    "\n",
    "wt1 = h6 - h5"
   ]
  },
  {
   "cell_type": "markdown",
   "id": "1e69ab76",
   "metadata": {},
   "source": [
    "---"
   ]
  },
  {
   "cell_type": "markdown",
   "id": "17a97842",
   "metadata": {},
   "source": [
    "### Misturador 6-10-11"
   ]
  },
  {
   "cell_type": "code",
   "execution_count": 35,
   "id": "96e691fe",
   "metadata": {},
   "outputs": [],
   "source": [
    "P11 = P10\n",
    "m11 = m6 + m10\n",
    "h11 = (m6*h6 + m10*h10)/m11\n",
    "\n",
    "state_11 = interpolated_state_at_P(cliquid_ssteam_df, P11, \"h\", h11)\n",
    "T11 = state_11[\"T\"]\n",
    "s11 = state_11[\"s\"]\n",
    "x11 = x10"
   ]
  },
  {
   "cell_type": "markdown",
   "id": "0dfa6002",
   "metadata": {},
   "source": [
    "---"
   ]
  },
  {
   "cell_type": "markdown",
   "id": "cbae441a",
   "metadata": {},
   "source": [
    "### Turbina de baixa pressão"
   ]
  },
  {
   "cell_type": "code",
   "execution_count": 36,
   "id": "79c0e5c6",
   "metadata": {},
   "outputs": [],
   "source": [
    "s12 = s11\n",
    "\n",
    "state_12_s = interpolated_state_at_P(cliquid_ssteam_df, P12, \"s\", s12)\n",
    "h12s = state_12_s[\"h\"]\n",
    "h12 = h11 - eta_s*(h11 - h12s)\n",
    "\n",
    "state_12 = interpolated_state_at_P(cliquid_ssteam_df, P12, \"h\", h12)\n",
    "T12 = state_6[\"T\"]\n",
    "s12 = state_6[\"s\"]\n",
    "x12 = x11\n",
    "m12 = m11\n",
    "\n",
    "wt2 = h12 - h11"
   ]
  },
  {
   "cell_type": "markdown",
   "id": "3b52017b",
   "metadata": {},
   "source": [
    "---"
   ]
  },
  {
   "cell_type": "markdown",
   "id": "e6f6d6e1",
   "metadata": {},
   "source": [
    "### Compressor 1"
   ]
  },
  {
   "cell_type": "code",
   "execution_count": 37,
   "id": "1e259c39",
   "metadata": {},
   "outputs": [],
   "source": [
    "T13 = 25\n",
    "P13 = P12\n",
    "state_13 = cliquid_ssteam_df[(cliquid_ssteam_df[\"P\"] == P13) & (cliquid_ssteam_df[\"T\"] == T13)]\n",
    "v13 = state_13['v'].values[0]\n",
    "h13 = state_13['h'].values[0]\n",
    "s13 = state_13['s'].values[0]\n",
    "x13 = 0.0\n",
    "m13 = m12\n",
    "\n",
    "P14 = 0.2\n",
    "wb1 = v13*(P14*10**6 - P13*10**6)*10**-3\n",
    "\n",
    "h14 = h13 + wb1\n",
    "state_14 = interpolated_state_at_P(cliquid_ssteam_df, P14, \"h\", h14)\n",
    "T14 = state_14['T']\n",
    "s14 = state_14['s']\n",
    "x14 = x13\n",
    "m14 = m13"
   ]
  },
  {
   "cell_type": "markdown",
   "id": "508faf2c",
   "metadata": {},
   "source": [
    "### Misturador 8-14-15"
   ]
  },
  {
   "cell_type": "code",
   "execution_count": 38,
   "id": "e3f858fa",
   "metadata": {},
   "outputs": [],
   "source": [
    "P15 = P14\n",
    "m15 = m8 + m14\n",
    "h15 = (m8*h8 + m14*h14)/m15\n",
    "state_15 = interpolated_state_at_P(cliquid_ssteam_df, P15, \"h\", h15)\n",
    "T15 = state_15[\"T\"]\n",
    "v15 = state_15['v']\n",
    "s15 = state_15[\"s\"]\n",
    "x15 = x14"
   ]
  },
  {
   "cell_type": "markdown",
   "id": "04f17d5a",
   "metadata": {},
   "source": [
    "### Compressor 2"
   ]
  },
  {
   "cell_type": "code",
   "execution_count": 39,
   "id": "a10349b5",
   "metadata": {},
   "outputs": [],
   "source": [
    "P16 = 1.0\n",
    "wb2 = v15*(P16*10**6 - P15*10**6)*10**-3\n",
    "\n",
    "h16 = h15 + wb2\n",
    "state_16 = interpolated_state_at_P(cliquid_ssteam_df, P16, \"h\", h16)\n",
    "T16 = state_16['T']\n",
    "s16 = state_16['s']\n",
    "x16 = 0.0\n",
    "m16 = m15"
   ]
  },
  {
   "cell_type": "markdown",
   "id": "89f0f58c",
   "metadata": {},
   "source": [
    "---"
   ]
  },
  {
   "cell_type": "markdown",
   "id": "a4998040",
   "metadata": {},
   "source": [
    "### Trabalho Total"
   ]
  },
  {
   "cell_type": "code",
   "execution_count": 40,
   "id": "e4319c2f",
   "metadata": {},
   "outputs": [
    {
     "name": "stdout",
     "output_type": "stream",
     "text": [
      "Entrada:\n",
      "\tPoço geotérmico:\t\t80.0 kg/s\n",
      "\tGás natural:\t\t\t0.37 kg/s\n",
      "\n",
      "Saída:\n",
      "\tPotência gerada:\n",
      "\t\tGeotermica: \t\t 7.184 MW\t 58.7%\n",
      "\t\tTurbina a gás: \t\t 5.050 MW\t 41.3%\n",
      "\t\tTotal: \t\t\t12.234 MW\t100.0%\n",
      "\tCalor liberado: \t\t48.133 MW\n",
      "\n",
      "Emissões de CO2:\n",
      "\tTonelada por megawatt hora: \t 0.288 Ton/MWh\n",
      "\n",
      "\n"
     ]
    }
   ],
   "source": [
    "Wt = m5*wt1 + m11*wt2\n",
    "Wb = m13*wb1 + m15*wb2\n",
    "Wv = Wt + Wb\n",
    "W = Wv + Wgas\n",
    "Ql = m12*(h12 - h13)\n",
    "\n",
    "print(\n",
    "    f\"Entrada:\\n\"\n",
    "    f\"\\tPoço geotérmico:\\t\\t{m1:.1f} kg/s\\n\"\n",
    "    f\"\\tGás natural:\\t\\t\\t{mf:.2f} kg/s\\n\\n\"\n",
    "    f\"Saída:\\n\"\n",
    "    f\"\\tPotência gerada:\\n\"\n",
    "    f\"\\t\\tGeotermica: \\t\\t {-Wv/1000:.3f} MW\\t {Wv/W*100:.1f}%\\n\"\n",
    "    f\"\\t\\tTurbina a gás: \\t\\t {-Wgas/1000:.3f} MW\\t {Wgas/W*100:.1f}%\\n\"\n",
    "    f\"\\t\\tTotal: \\t\\t\\t{-W/1000:.3f} MW\\t{W/W*100:.1f}%\\n\"\n",
    "    f\"\\tCalor liberado: \\t\\t{Ql/1000:.3f} MW\\n\\n\"\n",
    "    f\"Emissões de CO2:\\n\"\n",
    "    f\"\\tTonelada por megawatt hora: \\t {mco2*3.6/(-W/1000):.3f} Ton/MWh\\n\\n\"\n",
    "    )"
   ]
  }
 ],
 "metadata": {
  "kernelspec": {
   "display_name": "Python 3",
   "language": "python",
   "name": "python3"
  },
  "language_info": {
   "codemirror_mode": {
    "name": "ipython",
    "version": 3
   },
   "file_extension": ".py",
   "mimetype": "text/x-python",
   "name": "python",
   "nbconvert_exporter": "python",
   "pygments_lexer": "ipython3",
   "version": "3.10.6"
  }
 },
 "nbformat": 4,
 "nbformat_minor": 5
}
