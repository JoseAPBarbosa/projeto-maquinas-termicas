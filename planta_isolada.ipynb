{
 "cells": [
  {
   "cell_type": "markdown",
   "id": "07696cc7",
   "metadata": {},
   "source": [
    "### Imports"
   ]
  },
  {
   "cell_type": "code",
   "execution_count": 1,
   "id": "a17f07e0",
   "metadata": {},
   "outputs": [],
   "source": [
    "import pandas as pd\n",
    "\n",
    "url1 = \"https://raw.githubusercontent.com/JoseAPBarbosa/projeto-maquinas-termicas/main/saturated_by_temperature_V1.5.csv\"\n",
    "url2 = \"https://raw.githubusercontent.com/JoseAPBarbosa/projeto-maquinas-termicas/main/saturated_by_pressure_V1.4.csv\"\n",
    "url3 = \"https://raw.githubusercontent.com/JoseAPBarbosa/projeto-maquinas-termicas/main/compressed_liquid_and_superheated_steam_V1.3.csv\"\n",
    "\n",
    "sat_temperature_df = pd.read_csv(url1)\n",
    "sat_temperature_df.rename(columns={\n",
    "    'T (°C)': 'T',\n",
    "    'P (MPa)': 'P_sat',\n",
    "    'Specific Volume Liquid (m^3/kg)': 'v_f',\n",
    "    'Specific Volume Vapor (m^3/kg)': 'v_g',\n",
    "    'Internal Energy Liquid (kJ/kg)': 'u_f',\n",
    "    'Internal Energy Vapor (kJ/kg)': 'u_g',\n",
    "    'Internal Energy of Vaporization (kJ/kg)': 'u_fg',\n",
    "    'Enthalpy Liquid (kJ/kg)': 'h_f',\n",
    "    'Enthalpy Vapor (kJ/kg)': 'h_g',\n",
    "    'Enthalpy of Vaporization (kJ/kg)': 'h_fg',\n",
    "    'Entropy Liquid [kJ/(kg K)]': 's_f',\n",
    "    'Entropy Vapor [kJ/(kg K)]': 's_g',\n",
    "    'Entropy of Vaporization [kJ/(kg K)]': 's_fg'\n",
    "}, inplace=True)\n",
    "\n",
    "sat_pressure_df = pd.read_csv(url2)\n",
    "sat_pressure_df.rename(columns={\n",
    "    'P (MPa)': 'P',\n",
    "    'T (°C)': 'T_sat',\n",
    "    'Specific Volume Liquid (m^3/kg)': 'v_f',\n",
    "    'Specific Volume Vapor (m^3/kg)': 'v_g',\n",
    "    'Internal Energy Liquid (kJ/kg)': 'u_f',\n",
    "    'Internal Energy Vapor (kJ/kg)': 'u_g',\n",
    "    'Internal Energy of Vaporization (kJ/kg)': 'u_fg',\n",
    "    'Enthalpy Liquid (kJ/kg)': 'h_f',\n",
    "    'Enthalpy Vapor (kJ/kg)': 'h_g',\n",
    "    'Enthalpy of Vaporization (kJ/kg)': 'h_fg',\n",
    "    'Entropy Liquid [kJ/(kg K)]': 's_f',\n",
    "    'Entropy Vapor [kJ/(kg K)]': 's_g',\n",
    "    'Entropy of Vaporization [kJ/(kg K)]': 's_fg'\n",
    "}, inplace=True)\n",
    "\n",
    "cliquid_ssteam_df = pd.read_csv(url3)\n",
    "cliquid_ssteam_df.rename(columns={\n",
    "    'Pressure (MPa)': 'P',\n",
    "    ' Temperature (°C)': 'T',\n",
    "    ' Specific Volume (m^3/kg)': 'v',\n",
    "    ' Density (kg/m^3)': 'rho',\n",
    "    ' Specific Internal Energy (kJ/kg)': 'u',\n",
    "    ' Specific Enthalpy (kJ/kg)': 'h',\n",
    "    ' Specific Entropy [kJ/(kg K)]': 's'\n",
    "}, inplace=True)\n",
    "cliquid_ssteam_df = cliquid_ssteam_df.apply(pd.to_numeric, errors='coerce')"
   ]
  },
  {
   "cell_type": "markdown",
   "id": "a2a67006",
   "metadata": {},
   "source": [
    "### Função para obter o estado termodinâmico da água para um dada pressão e propriedade"
   ]
  },
  {
   "cell_type": "code",
   "execution_count": 2,
   "id": "3bcf12dd",
   "metadata": {},
   "outputs": [],
   "source": [
    "def interpolated_state_at_P(df, target_P, col, target_val):\n",
    "    \"\"\"\n",
    "    Interpolates all values in df at fixed target_P so that column `col`\n",
    "    equals target_val exactly (linear interpolation).\n",
    "    \n",
    "    Parameters:\n",
    "        df : pandas.DataFrame\n",
    "        target_P : float\n",
    "            Desired pressure value\n",
    "        col : str\n",
    "            Column name to interpolate against (e.g. 'h', 's', etc.)\n",
    "        target_val : float\n",
    "            Desired value in column `col`\n",
    "    \n",
    "    Returns:\n",
    "        interpolated_row : pandas.Series\n",
    "            Row with interpolated values\n",
    "    \"\"\"\n",
    "    # Filter only rows at given pressure\n",
    "    df_at_P = df[df['P'] == target_P].sort_values(by=col).reset_index(drop=True)\n",
    "    \n",
    "    # If the target_val is outside range, return closest row\n",
    "    if target_val <= df_at_P[col].min():\n",
    "        return df_at_P.iloc[0]\n",
    "    if target_val >= df_at_P[col].max():\n",
    "        return df_at_P.iloc[-1]\n",
    "\n",
    "    # Find bounding rows\n",
    "    lower_idx = (df_at_P[col] <= target_val).idxmax()  # first >=\n",
    "    upper_idx = (df_at_P[col] >= target_val).idxmax()  # first >= again\n",
    "\n",
    "    # Handle possible edge-case\n",
    "    if lower_idx == upper_idx:\n",
    "        return df_at_P.loc[lower_idx]\n",
    "\n",
    "    row1 = df_at_P.loc[lower_idx]\n",
    "    row2 = df_at_P.loc[upper_idx]\n",
    "\n",
    "    # Linear interpolation factor\n",
    "    t = (target_val - row1[col]) / (row2[col] - row1[col])\n",
    "\n",
    "    # Interpolate every column numerically\n",
    "    interpolated = {}\n",
    "    for c in df.columns:\n",
    "        if c == 'P':\n",
    "            interpolated[c] = target_P\n",
    "        elif pd.api.types.is_numeric_dtype(df[c]):\n",
    "            interpolated[c] = row1[c] + t * (row2[c] - row1[c])\n",
    "        else:\n",
    "            # Non-numeric (like phase labels) – keep closest\n",
    "            interpolated[c] = row1[c] if t < 0.5 else row2[c]\n",
    "\n",
    "    return pd.Series(interpolated)\n"
   ]
  },
  {
   "cell_type": "markdown",
   "id": "a3f36163",
   "metadata": {},
   "source": [
    "---"
   ]
  },
  {
   "cell_type": "markdown",
   "id": "4f78c37d",
   "metadata": {},
   "source": [
    "### Entrada:"
   ]
  },
  {
   "cell_type": "code",
   "execution_count": 3,
   "id": "78c594b7",
   "metadata": {},
   "outputs": [],
   "source": [
    "P1 = 5.0\n",
    "T1 = 240.0\n",
    "\n",
    "m1 = 80.0"
   ]
  },
  {
   "cell_type": "markdown",
   "id": "d57749fc",
   "metadata": {},
   "source": [
    "---"
   ]
  },
  {
   "cell_type": "markdown",
   "id": "3b216593",
   "metadata": {},
   "source": [
    "### Quedas de pressão"
   ]
  },
  {
   "cell_type": "code",
   "execution_count": 4,
   "id": "04b0836a",
   "metadata": {},
   "outputs": [],
   "source": [
    "P2 = 1\n",
    "P5 = 0.2\n",
    "P6 = 0.2\n",
    "P10 = 0.05"
   ]
  },
  {
   "cell_type": "markdown",
   "id": "7034434c",
   "metadata": {},
   "source": [
    "---"
   ]
  },
  {
   "cell_type": "markdown",
   "id": "394d26e2",
   "metadata": {},
   "source": [
    "### Primeiro Flashing"
   ]
  },
  {
   "cell_type": "code",
   "execution_count": 5,
   "id": "c29996f5",
   "metadata": {},
   "outputs": [],
   "source": [
    "state_1 = cliquid_ssteam_df[(cliquid_ssteam_df[\"P\"] == P1) & (cliquid_ssteam_df[\"T\"] == T1)]\n",
    "h1 = state_1[\"h\"].values[0]\n",
    "s1 = state_1[\"s\"].values[0]\n",
    "x1 = 0\n",
    "\n",
    "state_2 = sat_pressure_df[sat_pressure_df[\"P\"] == P2]\n",
    "T2 = state_2[\"T_sat\"].values[0]\n",
    "hf2 = state_2[\"h_f\"].values[0]\n",
    "hg2 = state_2[\"h_g\"].values[0]\n",
    "sf2 = state_2[\"s_f\"].values[0]\n",
    "sg2 = state_2[\"s_g\"].values[0]\n",
    "\n",
    "x2 = (h1 - hf2)/(hg2 - hf2)\n",
    "m2 = m1\n",
    "\n",
    "h2 = x2*hg2 + (1 - x2)*hf2\n",
    "s2 = x2*sg2 + (1 - x2)*sf2\n",
    "\n",
    "P3 = P2\n",
    "T3 = T2\n",
    "h3 = hf2\n",
    "s3 = sf2\n",
    "x3 = 0\n",
    "m3 = (1-x2)*m2\n",
    "\n",
    "P4 = P2\n",
    "T4 = T2\n",
    "h4 = hg2\n",
    "s4 = sg2\n",
    "x4 = 1\n",
    "m4 = x2*m2"
   ]
  },
  {
   "cell_type": "markdown",
   "id": "8ed3e2a5",
   "metadata": {},
   "source": [
    "---"
   ]
  },
  {
   "cell_type": "markdown",
   "id": "d1b70a3c",
   "metadata": {},
   "source": [
    "### Segundo Flashing"
   ]
  },
  {
   "cell_type": "code",
   "execution_count": 6,
   "id": "8cd08a15",
   "metadata": {},
   "outputs": [],
   "source": [
    "state_6 = sat_pressure_df[sat_pressure_df[\"P\"] == P6]\n",
    "T6 = state_6[\"T_sat\"].values[0]\n",
    "hf6 = state_6[\"h_f\"].values[0]\n",
    "hg6 = state_6[\"h_g\"].values[0]\n",
    "sf6 = state_6[\"s_f\"].values[0]\n",
    "sg6 = state_6[\"s_g\"].values[0]\n",
    "\n",
    "x6 = (h3 - hf6)/(hg6 - hf6)\n",
    "m6 = m3\n",
    "\n",
    "h6 = x6*hg6 + (1-x6)*hf6\n",
    "s6 = x6*sg6 + (1-x6)*sf6\n",
    "\n",
    "P7 = P6\n",
    "T7 = T6\n",
    "h7 = hf6\n",
    "s7 = sf6\n",
    "x7 = 0\n",
    "m7 = (1-x6)*m6\n",
    "\n",
    "P8 = P6\n",
    "T8 = T6\n",
    "h8 = hg6\n",
    "s8 = sg6\n",
    "x8 = 1\n",
    "m8 = x6*m6"
   ]
  },
  {
   "cell_type": "markdown",
   "id": "d00090ed",
   "metadata": {},
   "source": [
    "---"
   ]
  },
  {
   "cell_type": "markdown",
   "id": "fc39afb2",
   "metadata": {},
   "source": [
    "### Turbina de alta pressão\n"
   ]
  },
  {
   "cell_type": "code",
   "execution_count": 7,
   "id": "53850004",
   "metadata": {},
   "outputs": [],
   "source": [
    "eta_s = 0.85\n",
    "s5 = s4\n",
    "\n",
    "state_5 = cliquid_ssteam_df[(cliquid_ssteam_df[\"P\"] == P5) & (cliquid_ssteam_df[\"T\"] == 120.21)]\n",
    "T5 = state_5[\"T\"].values[0]\n",
    "h5f = state_5[\"h\"].values[0]\n",
    "h5g = state_5[\"h\"].values[1]\n",
    "s5f = state_5[\"s\"].values[0]\n",
    "s5g = state_5[\"s\"].values[1]\n",
    "v5f = state_5[\"v\"].values[0]\n",
    "v5g = state_5[\"v\"].values[1]\n",
    "\n",
    "x5 = (s5 - s5f)/(s5g - s5f)\n",
    "m5 = m4\n",
    "\n",
    "h5s = x5*h5g + (1-x5)*h5f\n",
    "h5 = h4 - eta_s*(h4 - h5s)\n",
    "\n",
    "wt1 = h5 - h4\n",
    "v5 = x5*v5g + (1-x5)*v5f"
   ]
  },
  {
   "cell_type": "markdown",
   "id": "1e69ab76",
   "metadata": {},
   "source": [
    "---"
   ]
  },
  {
   "cell_type": "markdown",
   "id": "17a97842",
   "metadata": {},
   "source": [
    "### Misturador 5-8-9"
   ]
  },
  {
   "cell_type": "code",
   "execution_count": 8,
   "id": "96e691fe",
   "metadata": {},
   "outputs": [],
   "source": [
    "P9 = P8\n",
    "m9 = m5 + m8\n",
    "h9 = (m5*h5 + m8*h8)/m9\n",
    "\n",
    "\n",
    "state_9 = cliquid_ssteam_df[(cliquid_ssteam_df[\"P\"] == P9) & (cliquid_ssteam_df[\"T\"] == 120.21)]\n",
    "T9 = state_9[\"T\"].values[0]\n",
    "h9f = state_9[\"h\"].values[0]\n",
    "h9g = state_9[\"h\"].values[1]\n",
    "s9f = state_9[\"s\"].values[0]\n",
    "s9g = state_9[\"s\"].values[1]\n",
    "\n",
    "x9 = (h9 - h9f)/(h9g - h9f)\n",
    "s9 = x9*s9g + (1-x9)*s9f"
   ]
  },
  {
   "cell_type": "markdown",
   "id": "0dfa6002",
   "metadata": {},
   "source": [
    "---"
   ]
  },
  {
   "cell_type": "markdown",
   "id": "cbae441a",
   "metadata": {},
   "source": [
    "### Turbina de baixa pressão"
   ]
  },
  {
   "cell_type": "code",
   "execution_count": 9,
   "id": "79c0e5c6",
   "metadata": {},
   "outputs": [],
   "source": [
    "s10 = s9\n",
    "\n",
    "state_10_s = cliquid_ssteam_df[(cliquid_ssteam_df[\"P\"] == P10) & (cliquid_ssteam_df[\"T\"] == 81.317)]\n",
    "T10 = state_10_s[\"T\"].values[0]\n",
    "h10f = state_10_s[\"h\"].values[0]\n",
    "h10g = state_10_s[\"h\"].values[1]\n",
    "s10f = state_10_s[\"s\"].values[0]\n",
    "s10g = state_10_s[\"s\"].values[1]\n",
    "\n",
    "x10 = (s10 - s10f)/(s10g - s10f)\n",
    "m10 = m9\n",
    "\n",
    "h10s = x10*h10g + (1-x10)*h10f\n",
    "h10 = h10s - eta_s*(h9 - h10s)\n",
    "\n",
    "wt2 = h10 - h9"
   ]
  },
  {
   "cell_type": "markdown",
   "id": "3b52017b",
   "metadata": {},
   "source": [
    "---"
   ]
  },
  {
   "cell_type": "markdown",
   "id": "d52f31df",
   "metadata": {},
   "source": [
    "### Compressor 1"
   ]
  },
  {
   "cell_type": "code",
   "execution_count": 10,
   "id": "1e259c39",
   "metadata": {},
   "outputs": [],
   "source": [
    "T11 = 25\n",
    "P11 = P10\n",
    "\n",
    "state_11 = cliquid_ssteam_df[(cliquid_ssteam_df[\"P\"] == P11) & (cliquid_ssteam_df[\"T\"] == T11)]\n",
    "v11 = state_11[\"v\"].values[0]\n",
    "h11 = state_11[\"h\"].values[0]\n",
    "s11 = state_11[\"s\"].values[0]\n",
    "x11 = 0.0\n",
    "m11 = m10\n",
    "\n",
    "P12 = 0.2\n",
    "wb1 = v11*(P12*10**6 - P11*10**6)*10**-3\n",
    "\n",
    "\n",
    "h12 = h11 + wb1\n",
    "state_12 = interpolated_state_at_P(cliquid_ssteam_df, P12, \"h\", h12)\n",
    "T14 = state_12['T']\n",
    "s12 = state_12['s']\n",
    "x12 = x11\n",
    "m12 = m11"
   ]
  },
  {
   "cell_type": "markdown",
   "id": "d18f75a9",
   "metadata": {},
   "source": [
    "### Misturador 7-12-13"
   ]
  },
  {
   "cell_type": "code",
   "execution_count": 11,
   "id": "11c8e865",
   "metadata": {},
   "outputs": [],
   "source": [
    "P13 = P12\n",
    "m13 = m7 + m12\n",
    "h13 = (m7*h7 + m12*h12)/m13\n",
    "state_13 = interpolated_state_at_P(cliquid_ssteam_df, P13, \"h\", h13)\n",
    "T13 = state_13[\"T\"]\n",
    "v13 = state_13['v']\n",
    "s13 = state_13[\"s\"]\n",
    "x13 = x12"
   ]
  },
  {
   "cell_type": "markdown",
   "id": "32260d2c",
   "metadata": {},
   "source": [
    "### Compressor 2"
   ]
  },
  {
   "cell_type": "code",
   "execution_count": 12,
   "id": "473135f5",
   "metadata": {},
   "outputs": [],
   "source": [
    "P14 = 1.0\n",
    "wb2 = v13*(P14*10**6 - P13*10**6)*10**-3\n",
    "\n",
    "h14 = h13 + wb2\n",
    "state_14 = interpolated_state_at_P(cliquid_ssteam_df, P14, \"h\", h14)\n",
    "T14 = state_14['T']\n",
    "s14 = state_14['s']\n",
    "x14 = 0.0\n",
    "m14 = m13"
   ]
  },
  {
   "cell_type": "code",
   "execution_count": 13,
   "id": "e4319c2f",
   "metadata": {},
   "outputs": [
    {
     "name": "stdout",
     "output_type": "stream",
     "text": [
      "Entrada:\n",
      "\tPoço geotérmico:\t\t80.0 kg/s\n",
      "\n",
      "Saída:\n",
      "\tPotência gerada:\t\t10.186 MW\n",
      "\tCalor liberado: \t\t39.987 MW\n",
      "\n",
      "Emissões de CO2: Nenhuma diretamente.\n",
      "\n"
     ]
    }
   ],
   "source": [
    "Wt = m4*wt1 + m9*wt2\n",
    "Wb = m11*wb1 + m13*wb2\n",
    "Wv = Wt + Wb\n",
    "Ql = m10*(h10 - h11)\n",
    "\n",
    "print(\n",
    "    f\"Entrada:\\n\"\n",
    "    f\"\\tPoço geotérmico:\\t\\t{m1:.1f} kg/s\\n\\n\"\n",
    "    f\"Saída:\\n\"\n",
    "    f\"\\tPotência gerada:\\t\\t{-Wv/1000:.3f} MW\\n\"\n",
    "    f\"\\tCalor liberado: \\t\\t{Ql/1000:.3f} MW\\n\\n\"\n",
    "    f\"Emissões de CO2: Nenhuma diretamente.\\n\"\n",
    "    )"
   ]
  }
 ],
 "metadata": {
  "kernelspec": {
   "display_name": "Python 3",
   "language": "python",
   "name": "python3"
  },
  "language_info": {
   "codemirror_mode": {
    "name": "ipython",
    "version": 3
   },
   "file_extension": ".py",
   "mimetype": "text/x-python",
   "name": "python",
   "nbconvert_exporter": "python",
   "pygments_lexer": "ipython3",
   "version": "3.10.6"
  }
 },
 "nbformat": 4,
 "nbformat_minor": 5
}
